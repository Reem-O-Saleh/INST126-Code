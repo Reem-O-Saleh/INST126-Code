{
 "cells": [
  {
   "cell_type": "markdown",
   "metadata": {
    "id": "Q4DUKQu30UpM"
   },
   "source": [
    "# Project 1: Expressions, Variables, Functions, and Conditionals"
   ]
  },
  {
   "cell_type": "markdown",
   "metadata": {
    "id": "spLE98dUsRcY"
   },
   "source": [
    "Choose ***ONLY ONE*** of the problems below to solve. You may attempt more if you want, but if you do, please indicate in your submission comment on ELMS which one you want to count for your grade. We will only have time to grade and give detailed feedback on one problem per person."
   ]
  },
  {
   "cell_type": "markdown",
   "metadata": {},
   "source": [
    "### Metacognition questions (complete after you are finished before submitting):\n",
    "\n",
    "**While/after completing this project, what (if any) concepts/skills did you realize you feel you need/want to understand better?**<br/>"
   ]
  },
  {
   "cell_type": "markdown",
   "metadata": {},
   "source": [
    "I feel that I want to understand how to approach a problem better. It took me a lot of tries to finally get it to an answer I feel is correct and logical. I felt that I couldn't do some of the other problems as they seemed more complicated, so I chose problem 1 because I felt the most familiar with the concept. I feel that I need to learn the skills required to complete the other problems in this project, just for my own personal understanding and knowledge gain. "
   ]
  },
  {
   "cell_type": "markdown",
   "metadata": {},
   "source": [
    "**What is your rough ballpark estimate of how much you relied on \"trial and error\"^ to complete this project? Answers might range from \"basically none\" to \"almost all of the code was written through trial and error\"**<br/>\n",
    "\n",
    "^ \"trial and error\" roughly amounts to blindly changing things until they work, with no predictions about whether your changes are likely to be successful"
   ]
  },
  {
   "cell_type": "code",
   "execution_count": null,
   "metadata": {},
   "outputs": [],
   "source": [
    "I would say that when I was working through the problem, at first I did go through trial and error to figure it out, but eventually I figured out a more successful approach. I would say that only two lines of code that are in my answer now were the result of trial and error, but I did go through trial and error to figure out the whole problem."
   ]
  },
  {
   "cell_type": "markdown",
   "metadata": {
    "id": "2IV8ktaD0kDr"
   },
   "source": [
    "### Problem 1: Wedding usher\n",
    "\n",
    "Write a function called `wedding_usher` that returns a `seatLocation` (*front*, *left*, or *right*) depending on these parameters: \n",
    "- `relationship`: whether you're **friend** or **family**\n",
    "- `closeTo` whether you're closest to the **bride**, **groom**, or **both**\n",
    "\n",
    "Here is the mapping of cases to decisions that you want to follow:\n",
    "- **family** --> *front* (no matter if close to bride, groom, or both)\n",
    "- **friend** of **bride** --> *left*\n",
    "- **friend** of **groom** --> *right*\n",
    "- **friend** of bride *and* groom --> *front*"
   ]
  },
  {
   "cell_type": "code",
   "execution_count": 104,
   "metadata": {},
   "outputs": [],
   "source": [
    "# prototype the body of your function here if you want"
   ]
  },
  {
   "cell_type": "code",
   "execution_count": 107,
   "metadata": {
    "id": "D3Uz4y-a0Lrc"
   },
   "outputs": [],
   "source": [
    "# Write your function here\n",
    "def wedding_usher(relationship,closeTo):\n",
    "    if relationship == \"family\":\n",
    "        seatLocation = \"front\"\n",
    "    elif relationship == \"friend\" and closeTo == \"bride\":\n",
    "        seatLocation = \"left\"\n",
    "    elif relationship == \"friend\" and closeTo == \"groom\":\n",
    "        seatLocation = \"right\"\n",
    "    else:   \n",
    "        seatLocation = \"front\"\n",
    "    return seatLocation \n",
    "    # Your code here\n",
    "# return # and here"
   ]
  },
  {
   "cell_type": "code",
   "execution_count": 109,
   "metadata": {
    "id": "Tnd1mXJk0vZB"
   },
   "outputs": [
    {
     "name": "stdout",
     "output_type": "stream",
     "text": [
      "right\n"
     ]
    }
   ],
   "source": [
    "relationship = \"friend\"\n",
    "closeTo = \"groom\"\n",
    "seatLocation = wedding_usher(relationship,closeTo) # don't forget to put in the arguments into the function call!\n",
    "print(seatLocation)\n",
    "# Test your function here (and/or add more code blocks if you need to)\n",
    "# You should probably play around with these variables to test your function's behavior"
   ]
  },
  {
   "cell_type": "markdown",
   "metadata": {
    "id": "uthF4fmV0uvt"
   },
   "source": [
    "### Problem 2: COVID diagnostic\n",
    "Write a function that makes a tentative `diagnosis` of COVID (probablyNo, possiblyYes, probablyYes), based on a presenting set of symptoms. \n",
    "\n",
    "The symptoms (parameters) are:\n",
    "- `temperature` (int) - what is your temperature?\n",
    "- `cough` (Boolean) - do you have a cough?\n",
    "- `runnyNose` (Boolean) - do you have a runny nose?\n",
    "\n",
    "The conditions and outcomes are:\n",
    "- runny nose is an antipattern, so any time runnyNose is true, the function should diagnose as `probablyNo` (i.e., not COVID)\n",
    "- if temperature is above 100 (fever) or there is a cough (but not both), then there's a small chance it's COVID, but we can't be super sure, so the function should diagnose as `possiblyYes`\n",
    "- if temperature is above 100 (fever) and there is a cough, then we're a little more worried that it might be COVID, so the function should diagnose as `probablyYes`\n",
    "\n",
    "*NOTE: it should go without saying, but these conditions are made up for this exercise: the reality is far more complex!*"
   ]
  },
  {
   "cell_type": "code",
   "execution_count": null,
   "metadata": {},
   "outputs": [],
   "source": [
    "# prototype the body of your function here if you want"
   ]
  },
  {
   "cell_type": "code",
   "execution_count": null,
   "metadata": {
    "id": "Stj6Fd_4ghH0"
   },
   "outputs": [],
   "source": [
    "# encapsulate your program into a function here\n",
    "# remember the run this cell before testing in the next cell!\n",
    "def diagnose(): # parameters here\n",
    "  # body of function here\n",
    "  return # return values here"
   ]
  },
  {
   "cell_type": "code",
   "execution_count": null,
   "metadata": {
    "id": "Chfjh5L1ghca"
   },
   "outputs": [],
   "source": [
    "# Test your function here (and/or add more code blocks if you need to)\n",
    "# You should probably play around with these variables to test your function's behavior\n",
    "temperature = 99\n",
    "cough = True\n",
    "runnyNose = False\n",
    "diagnosis = diagnose() # don't forget to put in the arguments into the function call!\n",
    "print(diagnosis)"
   ]
  },
  {
   "cell_type": "markdown",
   "metadata": {
    "id": "coKS_h97g41S"
   },
   "source": [
    "### Problem 3: Football touchdown caller\n",
    "\n",
    "Write a function that calls a touchdown based on rules of football. \n",
    "\n",
    "Per [this easy guide](https://www.thesun.co.uk/sport/5192047/nfl-rules-beginners-guide-touchdown-first-down-quarterback-endzone-super-bowl/#:~:text=A%20player%20can%20run%20the,in%20control%20from%20the%20receiver.), you can score a touchdown by running the ball in or catching a pass in the endzone. If you're running, the ball has only has to \"break the plane\" (i.e., cross the endzone line). But if you're catching, there are more requirements: both feet have to touch the ground AND the ball must be \"in control\" of the receiver; if either of these conditions is not met, then it's not a touchdown.\n",
    "\n",
    "In other words, your function needs to take in these parameters:\n",
    "- `breakPlane` (Boolean) - did the ball \"break the plane\" (i.e., enter the end zone)?\n",
    "- `manner` (str) - how did the ball enter the end zone? \"run\" or \"catch\"?\n",
    "- `bothFeet` (Boolean) - were both feet on the ground at the time of the call?\n",
    "- `inControl` (Boolean) - did the player \"have control\" of the ball at the time of the call?\n",
    "\n",
    "And return either `True` (touchdown!) or `False` (not touchdown), following the logic laid out above."
   ]
  },
  {
   "cell_type": "code",
   "execution_count": null,
   "metadata": {},
   "outputs": [],
   "source": [
    "# prototype the body of your function here if you want"
   ]
  },
  {
   "cell_type": "code",
   "execution_count": null,
   "metadata": {
    "id": "-sbzllUWhAdz"
   },
   "outputs": [],
   "source": [
    "# encapsulate your program into a function here\n",
    "# remember the run this cell before testing in the next cell!\n",
    "def touchdown_call(): # parameters here\n",
    "  # body of function here\n",
    "  return # return values here"
   ]
  },
  {
   "cell_type": "code",
   "execution_count": null,
   "metadata": {
    "id": "3-V85Vl6hBEb"
   },
   "outputs": [],
   "source": [
    "# Test your function here (and/or add more code blocks if you need to)\n",
    "# You should probably play around with these variables to test your function's behavior\n",
    "breakPlane = True\n",
    "manner = \"run\"\n",
    "bothFeet = True\n",
    "inControl = True\n",
    "call = touchdown_call() # don't forget to put in the arguments into the function call!\n",
    "print(call)"
   ]
  },
  {
   "cell_type": "markdown",
   "metadata": {
    "id": "6ojrM4YphcEC"
   },
   "source": [
    "### Problem 4: Hero attack effect calculator\n",
    "\n",
    "Write a function that calculates whether a hero's attack on an enemy was effective or not, depending on the following parameters:\n",
    "- `attack` (str) - \"normal\" or \"special\" attack\n",
    "- `magic` (Boolean) - does the attack use magic?\n",
    "- `enemy_hero` (Boolean) - is the enemy a \"hero\"?\n",
    "\n",
    "The conditions and outcomes are:\n",
    "- If your enemy is not a hero,\n",
    "    - and you use a special attack that also uses magic, then the attack is `super_effective`\n",
    "    - and you use either a normal magic attack or a special non-magical attack, then the attack is `effective`\n",
    "    - and you use a normal non-magical attack, then the attack is `somewhat_effective`\n",
    "- If your enemy is a hero, \n",
    "    - and you use a special attack that also uses magic, then the attack is `effective`\n",
    "    - and you use a special attack that doesn't use magic, then the attack is `somewhat_effective`\n",
    "    - any normal attack (with or without magic) will be `ineffective`"
   ]
  },
  {
   "cell_type": "code",
   "execution_count": null,
   "metadata": {},
   "outputs": [],
   "source": [
    "# prototype the body of your function here if you want"
   ]
  },
  {
   "cell_type": "code",
   "execution_count": null,
   "metadata": {
    "id": "WeVsjueHhhhl"
   },
   "outputs": [],
   "source": [
    "# encapsulate your program into a function here\n",
    "# remember the run this cell before testing in the next cell!\n",
    "def hero_attack(): # parameters here\n",
    "  # body of function here\n",
    "  return # return values here"
   ]
  },
  {
   "cell_type": "code",
   "execution_count": null,
   "metadata": {
    "id": "GtixNSCZhk3l"
   },
   "outputs": [],
   "source": [
    "# Test your function here (and/or add more code blocks if you need to)\n",
    "# You should probably play around with these variables to test your function's behavior\n",
    "attack = \"special\"\n",
    "magic = False\n",
    "enemy_hero = False\n",
    "result = hero_attack() # don't forget to put in the arguments into the function call!\n",
    "print(result)"
   ]
  },
  {
   "cell_type": "markdown",
   "metadata": {
    "id": "gQ7JwWWaaHeH"
   },
   "source": [
    "## Problem 5: Rock Paper Scissors Game\n",
    "\n",
    "Write a function `rock_paper_scissors()` that returns the `result` (\"Player 2 wins\", \"Player 1 wins\", or \"Match Draw\") between two players who pick either rock, paper, or scissors. The function takes the players' choices (`player1` and `player2`) as parameters.\n",
    "\n",
    "The conditions and outcomes are:\n",
    "\n",
    "- `player1` chooses \"rock\" and `player2` chooses \"paper\" --> \"Player 2 wins\"\n",
    "- `player1` chooses \"rock\" and `player2` chooses \"scissors\" --> \"Player 1 wins\"\n",
    "- `player1` chooses \"rock\" and `player2` chooses \"rock\" --> \"Match Draw\"\n",
    "- `player1` chooses \"paper\" and `player2` chooses \"rock\" --> \"Player 1 wins\"\n",
    "- `player1` chooses \"paper\" and `player2` chooses \"scissors\" --> \"Player 2 wins\"\n",
    "- `player1` chooses \"paper\" and `player2` chooses \"paper\" --> \"Match Draw\"\n",
    "- `player1` chooses \"scissors\" and `player2` chooses \"rock\" --> \"Player 2 wins\"\n",
    "- `player1` chooses \"scissors\" and `player2` chooses \"paper\" --> \"Player 1 wins\"\n",
    "- `player1` chooses \"scissors\" and `player2` chooses \"scissors\" --> \"Match Draw\""
   ]
  },
  {
   "cell_type": "code",
   "execution_count": null,
   "metadata": {},
   "outputs": [],
   "source": [
    "# prototype the body of your function here if you want"
   ]
  },
  {
   "cell_type": "code",
   "execution_count": null,
   "metadata": {
    "id": "GwbMD2tXbHTi"
   },
   "outputs": [],
   "source": [
    "# encapsulate your program into a function here\n",
    "# remember the run this cell before testing in the next cell!\n",
    "def rock_paper_scissors(): # parameters here\n",
    "  # body of function here\n",
    "  return # return values here"
   ]
  },
  {
   "cell_type": "code",
   "execution_count": null,
   "metadata": {
    "id": "XJMYwf0zbLKe"
   },
   "outputs": [],
   "source": [
    "# Test your function here (and/or add more code blocks if you need to)\n",
    "# You should probably play around with these variables to test your function's behavior\n",
    "player_1 = 'rock'\n",
    "player_2 = 'paper'\n",
    "\n",
    "result = rock_paper_scissors() # don't forget to put in the arguments into the function call!\n",
    "print(result)"
   ]
  }
 ],
 "metadata": {
  "colab": {
   "collapsed_sections": [],
   "name": "INST126_SP21_Project1_Template.ipynb",
   "provenance": []
  },
  "kernelspec": {
   "display_name": "Python 3 (ipykernel)",
   "language": "python",
   "name": "python3"
  },
  "language_info": {
   "codemirror_mode": {
    "name": "ipython",
    "version": 3
   },
   "file_extension": ".py",
   "mimetype": "text/x-python",
   "name": "python",
   "nbconvert_exporter": "python",
   "pygments_lexer": "ipython3",
   "version": "3.9.12"
  },
  "toc": {
   "base_numbering": 1,
   "nav_menu": {},
   "number_sections": true,
   "sideBar": true,
   "skip_h1_title": false,
   "title_cell": "Table of Contents",
   "title_sidebar": "Contents",
   "toc_cell": false,
   "toc_position": {},
   "toc_section_display": true,
   "toc_window_display": false
  }
 },
 "nbformat": 4,
 "nbformat_minor": 1
}
